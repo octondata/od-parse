{
 "cells": [
  {
   "cell_type": "markdown",
   "metadata": {},
   "source": [
    "# od-parse Quick Start Guide\n",
    "\n",
    "This notebook demonstrates the key features of od-parse and how to use them effectively in your projects."
   ]
  },
  {
   "cell_type": "code",
   "execution_count": null,
   "metadata": {},
   "outputs": [],
   "source": [
    "from od_parse import ParseBuilder, parse_document"
   ]
  },
  {
   "cell_type": "markdown",
   "metadata": {},
   "source": [
    "## Simple Usage\n",
    "\n",
    "For basic document parsing, you can use the convenience function:"
   ]
  },
  {
   "cell_type": "code",
   "execution_count": null,
   "metadata": {},
   "outputs": [],
   "source": [
    "# Quick parse with default settings\n",
    "markdown = parse_document(\"sample.pdf\")\n",
    "print(markdown[:500])  # Show first 500 characters"
   ]
  },
  {
   "cell_type": "markdown",
   "metadata": {},
   "source": [
    "## Advanced Usage\n",
    "\n",
    "For more control over the parsing process, use the `ParseBuilder`:"
   ]
  },
  {
   "cell_type": "code",
   "execution_count": null,
   "metadata": {},
   "outputs": [],
   "source": [
    "# Configure and execute parsing with more options\n",
    "builder = (\n",
    "    ParseBuilder()\n",
    "    .with_ocr(enable=True, enable_handwriting=True)\n",
    "    .with_table_detection()\n",
    "    .with_progress_callback(lambda p: print(f\"Progress: {p}%\"))\n",
    ")\n",
    "\n",
    "result = builder.parse_file(\"complex_document.pdf\").to_markdown()"
   ]
  },
  {
   "cell_type": "markdown",
   "metadata": {},
   "source": [
    "## Async Processing\n",
    "\n",
    "For handling large documents without blocking:"
   ]
  },
  {
   "cell_type": "code",
   "execution_count": null,
   "metadata": {},
   "outputs": [],
   "source": [
    "async def process_large_document():\n",
    "    processor = ParseBuilder().with_ocr().parse_file(\"large_document.pdf\")\n",
    "\n",
    "    # Process asynchronously\n",
    "    result = await processor.process_async()\n",
    "    return processor.to_markdown()\n",
    "\n",
    "\n",
    "# Run the async function\n",
    "markdown = await process_large_document()"
   ]
  },
  {
   "cell_type": "markdown",
   "metadata": {},
   "source": [
    "## Handling Different Output Formats\n",
    "\n",
    "od-parse supports multiple output formats:"
   ]
  },
  {
   "cell_type": "code",
   "execution_count": null,
   "metadata": {},
   "outputs": [],
   "source": [
    "processor = ParseBuilder().parse_file(\"document.pdf\")\n",
    "\n",
    "# Get markdown\n",
    "markdown = processor.to_markdown()\n",
    "\n",
    "# Get plain text\n",
    "text = processor.to_text()\n",
    "\n",
    "# Get raw processing results\n",
    "data = processor.to_dict()"
   ]
  }
 ],
 "metadata": {
  "kernelspec": {
   "display_name": "Python 3",
   "language": "python",
   "name": "python3"
  },
  "language_info": {
   "codemirror_mode": {
    "name": "ipython",
    "version": 3
   },
   "file_extension": ".py",
   "mimetype": "text/x-python",
   "name": "python",
   "nbconvert_exporter": "python",
   "pygments_lexer": "ipython3",
   "version": "3.11.0"
  }
 },
 "nbformat": 4,
 "nbformat_minor": 4
}
